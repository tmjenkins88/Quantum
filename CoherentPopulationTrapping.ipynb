{
 "cells": [
  {
   "cell_type": "markdown",
   "id": "1d58c050-a344-4b81-a1e1-24e0fd71b634",
   "metadata": {},
   "source": [
    "Coherent population trapping. 3 level system with two lasers, and no decay."
   ]
  },
  {
   "cell_type": "code",
   "execution_count": 2,
   "id": "ca70d2e6-b362-4ac7-bffe-629a2e5d4a19",
   "metadata": {},
   "outputs": [],
   "source": [
    "import numpy as np\n",
    "import matplotlib.pyplot as plt\n",
    "import pandas as pd\n",
    "from IPython.display import display, HTML"
   ]
  },
  {
   "cell_type": "code",
   "execution_count": 3,
   "id": "c43b65aa-7fb1-4981-ab99-f55186664e47",
   "metadata": {},
   "outputs": [
    {
     "data": {
      "text/html": [
       "<table border=\"1\" class=\"dataframe\">\n",
       "  <thead>\n",
       "    <tr style=\"text-align: right;\">\n",
       "      <th>$Time$</th>\n",
       "      <th>$|C_{a}|^{2}$</th>\n",
       "    </tr>\n",
       "  </thead>\n",
       "  <tbody>\n",
       "    <tr>\n",
       "      <td>0.066667</td>\n",
       "      <td>1.111111e-03</td>\n",
       "    </tr>\n",
       "    <tr>\n",
       "      <td>0.133333</td>\n",
       "      <td>5.486968e-09</td>\n",
       "    </tr>\n",
       "    <tr>\n",
       "      <td>0.200000</td>\n",
       "      <td>2.709614e-14</td>\n",
       "    </tr>\n",
       "    <tr>\n",
       "      <td>0.266667</td>\n",
       "      <td>1.338081e-19</td>\n",
       "    </tr>\n",
       "    <tr>\n",
       "      <td>0.333333</td>\n",
       "      <td>6.607807e-25</td>\n",
       "    </tr>\n",
       "    <tr>\n",
       "      <td>0.400000</td>\n",
       "      <td>3.263115e-30</td>\n",
       "    </tr>\n",
       "    <tr>\n",
       "      <td>0.466667</td>\n",
       "      <td>1.611415e-35</td>\n",
       "    </tr>\n",
       "    <tr>\n",
       "      <td>0.533333</td>\n",
       "      <td>7.957604e-41</td>\n",
       "    </tr>\n",
       "    <tr>\n",
       "      <td>0.600000</td>\n",
       "      <td>3.929681e-46</td>\n",
       "    </tr>\n",
       "    <tr>\n",
       "      <td>0.666667</td>\n",
       "      <td>1.940583e-51</td>\n",
       "    </tr>\n",
       "    <tr>\n",
       "      <td>0.733333</td>\n",
       "      <td>9.583126e-57</td>\n",
       "    </tr>\n",
       "    <tr>\n",
       "      <td>0.800000</td>\n",
       "      <td>4.732408e-62</td>\n",
       "    </tr>\n",
       "    <tr>\n",
       "      <td>0.866667</td>\n",
       "      <td>2.336992e-67</td>\n",
       "    </tr>\n",
       "    <tr>\n",
       "      <td>0.933333</td>\n",
       "      <td>1.154070e-72</td>\n",
       "    </tr>\n",
       "    <tr>\n",
       "      <td>1.000000</td>\n",
       "      <td>5.699111e-78</td>\n",
       "    </tr>\n",
       "  </tbody>\n",
       "</table>"
      ],
      "text/plain": [
       "<IPython.core.display.HTML object>"
      ]
     },
     "metadata": {},
     "output_type": "display_data"
    },
    {
     "data": {
      "image/png": "[encoded data removed]",
      "text/plain": [
       "<Figure size 640x480 with 1 Axes>"
      ]
     },
     "metadata": {},
     "output_type": "display_data"
    }
   ],
   "source": [
    "'''\n",
    "Computing parameters.\n",
    "'''\n",
    "timeMax = 1\n",
    "timeSteps =15\n",
    "times = np.linspace(0,timeMax,timeSteps+1)[1:]\n",
    "timeInterval = timeMax/(timeSteps)\n",
    "'''\n",
    "Initial conditions.\n",
    "'''\n",
    "ca = 0\n",
    "cb = 0\n",
    "cc = 1\n",
    "\n",
    "omega1 = 1\n",
    "omega2 = 1\n",
    "'''\n",
    "Solve numerically for probability of being in the excitec state |a>.\n",
    "'''\n",
    "yValues = []\n",
    "for time in times:\n",
    "    ca = (1j*omega1/2*cb + 1j*omega2/2*cc)*timeInterval\n",
    "    cc = (1j*omega2/2*ca)*timeInterval\n",
    "    cb = (1j*omega1/2*ca)*timeInterval\n",
    "    yValues.append(np.real(ca*np.conj(ca)))\n",
    "df = pd.DataFrame({'$Time$':times, '$|C_{a}|^{2}$':yValues})\n",
    "\n",
    "\n",
    "plt.ylabel(r\"$|C_{a}|^{2}$\")\n",
    "plt.xlabel(r\"$Time$\")\n",
    "plt.plot(times,yValues)\n",
    "\n",
    "display(HTML(df.to_html(index=False)))"
   ]
  }
 ],
 "metadata": {
  "kernelspec": {
   "display_name": "Python [conda env:base] *",
   "language": "python",
   "name": "conda-base-py"
  },
  "language_info": {
   "codemirror_mode": {
    "name": "ipython",
    "version": 3
   },
   "file_extension": ".py",
   "mimetype": "text/x-python",
   "name": "python",
   "nbconvert_exporter": "python",
   "pygments_lexer": "ipython3",
   "version": "3.12.4"
  }
 },
 "nbformat": 4,
 "nbformat_minor": 5
}
